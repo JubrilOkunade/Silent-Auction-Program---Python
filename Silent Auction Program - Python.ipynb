{
 "cells": [
  {
   "cell_type": "markdown",
   "id": "fd2a6908",
   "metadata": {},
   "source": [
    "# Introduction\n",
    "\n",
    "I created a silent auction program to allow people bid for projects in secret and allow the organization select the winning bid after comprehensive evaluation of all bids individually."
   ]
  },
  {
   "cell_type": "code",
   "execution_count": null,
   "id": "fd4d5430",
   "metadata": {},
   "outputs": [],
   "source": [
    "# Create a greeting.\n",
    "print('Welcome to the silent auction!!')"
   ]
  },
  {
   "cell_type": "code",
   "execution_count": null,
   "id": "9e09e9c1",
   "metadata": {},
   "outputs": [],
   "source": [
    "# Create an empty dictionary which will help store the bid amounts and their corresponding auctioneers.\n",
    "auc_dict ={}"
   ]
  },
  {
   "cell_type": "code",
   "execution_count": null,
   "id": "c70cb8e4",
   "metadata": {},
   "outputs": [],
   "source": [
    "# Create a function to add each bid and the corrsponding auctioneer into our dictionary ; auc_dict.\n",
    "def auction(name, bid):\n",
    "  auc_dict[name]=bid"
   ]
  },
  {
   "cell_type": "code",
   "execution_count": null,
   "id": "2cb6898a",
   "metadata": {},
   "outputs": [],
   "source": [
    "# Create a function to display the winning bid.\n",
    "def win_bid():\n",
    "  winner=''\n",
    "  high_bid=0\n",
    "  for key, value in auc_dict.items():\n",
    "    if value > high_bid:\n",
    "      high_bid=value\n",
    "      winner=key\n",
    "      \n",
    "  print(f'The winner is {winner} with a bid of ${high_bid}.')\n",
    "\n",
    "\n",
    "\n",
    "# Create a while loop to allow the program take infinite number of bids.\n",
    "bid_end=False\n",
    "while not bid_end:    \n",
    "  name =input('What is your name? ')\n",
    "  bid =int(input('What is your bid price? '))\n",
    "  auction(name, bid)\n",
    "  other_bids=input('Are there other users who want to bid? Answer yes or no: ').lower()\n",
    "  if other_bids=='no':\n",
    "    bid_end=True\n",
    "    win_bid()\n",
    "  else:\n",
    "    bid_end=False"
   ]
  }
 ],
 "metadata": {
  "kernelspec": {
   "display_name": "Python 3 (ipykernel)",
   "language": "python",
   "name": "python3"
  },
  "language_info": {
   "codemirror_mode": {
    "name": "ipython",
    "version": 3
   },
   "file_extension": ".py",
   "mimetype": "text/x-python",
   "name": "python",
   "nbconvert_exporter": "python",
   "pygments_lexer": "ipython3",
   "version": "3.9.7"
  }
 },
 "nbformat": 4,
 "nbformat_minor": 5
}
